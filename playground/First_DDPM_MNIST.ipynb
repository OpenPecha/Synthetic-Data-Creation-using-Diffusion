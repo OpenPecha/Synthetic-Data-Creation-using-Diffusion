{
 "cells": [
  {
   "cell_type": "code",
   "execution_count": 7,
   "id": "71c5d1eb-5c1a-401f-b94e-aec75a3d7997",
   "metadata": {},
   "outputs": [],
   "source": [
    "import tensorflow as tf\n",
    "import numpy as np\n",
    "import matplotlib.pyplot as plt\n",
    "\n",
    "# Set random seed for reproducibility\n",
    "tf.random.set_seed(42)\n",
    "# Hyperparameters\n",
    "batch_size = 64\n",
    "learning_rate = 1e-4\n",
    "num_epochs = 10\n",
    "timesteps = 1000\n",
    "beta_start = 1e-4\n",
    "beta_end = 0.02"
   ]
  },
  {
   "cell_type": "code",
   "execution_count": 8,
   "id": "3742bc89-b34a-4822-8257-d85e7b5cb0a9",
   "metadata": {},
   "outputs": [
    {
     "name": "stdout",
     "output_type": "stream",
     "text": [
      "x_train shape: (60000, 28, 28, 1)\n",
      "x_test shape: (10000, 28, 28, 1)\n"
     ]
    },
    {
     "data": {
      "image/png": "[encoded data removed]",
      "text/plain": [
       "<Figure size 640x480 with 1 Axes>"
      ]
     },
     "metadata": {},
     "output_type": "display_data"
    }
   ],
   "source": [
    "# Load MNIST dataset\n",
    "(x_train, _), (x_test, _) = tf.keras.datasets.mnist.load_data()\n",
    "\n",
    "# Preprocess data\n",
    "x_train = x_train.astype(np.float32) / 255.0\n",
    "x_test = x_test.astype(np.float32) / 255.0\n",
    "x_train = x_train[..., tf.newaxis]  # Add channel dimension for grayscale\n",
    "x_test = x_test[..., tf.newaxis]\n",
    "\n",
    "# Print data shapes\n",
    "print(f\"x_train shape: {x_train.shape}\")\n",
    "print(f\"x_test shape: {x_test.shape}\")\n",
    "\n",
    "# Display an example image from the training set\n",
    "plt.imshow(x_train[0, :, :, 0], cmap='gray')\n",
    "plt.title(\"Example MNIST Image\")\n",
    "plt.show()\n"
   ]
  },
  {
   "cell_type": "code",
   "execution_count": 9,
   "id": "b1c6bc6e-717d-4463-8960-326390ed30bc",
   "metadata": {},
   "outputs": [
    {
     "data": {
      "text/html": [
       "<pre style=\"white-space:pre;overflow-x:auto;line-height:normal;font-family:Menlo,'DejaVu Sans Mono',consolas,'Courier New',monospace\"><span style=\"font-weight: bold\">Model: \"functional_2\"</span>\n",
       "</pre>\n"
      ],
      "text/plain": [
       "\u001b[1mModel: \"functional_2\"\u001b[0m\n"
      ]
     },
     "metadata": {},
     "output_type": "display_data"
    },
    {
     "data": {
      "text/html": [
       "<pre style=\"white-space:pre;overflow-x:auto;line-height:normal;font-family:Menlo,'DejaVu Sans Mono',consolas,'Courier New',monospace\">┏━━━━━━━━━━━━━━━━━━━━━━━━━━━━━━━━━┳━━━━━━━━━━━━━━━━━━━━━━━━┳━━━━━━━━━━━━━━━┓\n",
       "┃<span style=\"font-weight: bold\"> Layer (type)                    </span>┃<span style=\"font-weight: bold\"> Output Shape           </span>┃<span style=\"font-weight: bold\">       Param # </span>┃\n",
       "┡━━━━━━━━━━━━━━━━━━━━━━━━━━━━━━━━━╇━━━━━━━━━━━━━━━━━━━━━━━━╇━━━━━━━━━━━━━━━┩\n",
       "│ input_layer_2 (<span style=\"color: #0087ff; text-decoration-color: #0087ff\">InputLayer</span>)      │ (<span style=\"color: #00d7ff; text-decoration-color: #00d7ff\">None</span>, <span style=\"color: #00af00; text-decoration-color: #00af00\">28</span>, <span style=\"color: #00af00; text-decoration-color: #00af00\">28</span>, <span style=\"color: #00af00; text-decoration-color: #00af00\">1</span>)      │             <span style=\"color: #00af00; text-decoration-color: #00af00\">0</span> │\n",
       "├─────────────────────────────────┼────────────────────────┼───────────────┤\n",
       "│ conv2d_6 (<span style=\"color: #0087ff; text-decoration-color: #0087ff\">Conv2D</span>)               │ (<span style=\"color: #00d7ff; text-decoration-color: #00d7ff\">None</span>, <span style=\"color: #00af00; text-decoration-color: #00af00\">28</span>, <span style=\"color: #00af00; text-decoration-color: #00af00\">28</span>, <span style=\"color: #00af00; text-decoration-color: #00af00\">32</span>)     │           <span style=\"color: #00af00; text-decoration-color: #00af00\">320</span> │\n",
       "├─────────────────────────────────┼────────────────────────┼───────────────┤\n",
       "│ conv2d_7 (<span style=\"color: #0087ff; text-decoration-color: #0087ff\">Conv2D</span>)               │ (<span style=\"color: #00d7ff; text-decoration-color: #00d7ff\">None</span>, <span style=\"color: #00af00; text-decoration-color: #00af00\">28</span>, <span style=\"color: #00af00; text-decoration-color: #00af00\">28</span>, <span style=\"color: #00af00; text-decoration-color: #00af00\">64</span>)     │        <span style=\"color: #00af00; text-decoration-color: #00af00\">18,496</span> │\n",
       "├─────────────────────────────────┼────────────────────────┼───────────────┤\n",
       "│ conv2d_8 (<span style=\"color: #0087ff; text-decoration-color: #0087ff\">Conv2D</span>)               │ (<span style=\"color: #00d7ff; text-decoration-color: #00d7ff\">None</span>, <span style=\"color: #00af00; text-decoration-color: #00af00\">28</span>, <span style=\"color: #00af00; text-decoration-color: #00af00\">28</span>, <span style=\"color: #00af00; text-decoration-color: #00af00\">128</span>)    │        <span style=\"color: #00af00; text-decoration-color: #00af00\">73,856</span> │\n",
       "├─────────────────────────────────┼────────────────────────┼───────────────┤\n",
       "│ flatten_2 (<span style=\"color: #0087ff; text-decoration-color: #0087ff\">Flatten</span>)             │ (<span style=\"color: #00d7ff; text-decoration-color: #00d7ff\">None</span>, <span style=\"color: #00af00; text-decoration-color: #00af00\">100352</span>)         │             <span style=\"color: #00af00; text-decoration-color: #00af00\">0</span> │\n",
       "├─────────────────────────────────┼────────────────────────┼───────────────┤\n",
       "│ dense_4 (<span style=\"color: #0087ff; text-decoration-color: #0087ff\">Dense</span>)                 │ (<span style=\"color: #00d7ff; text-decoration-color: #00d7ff\">None</span>, <span style=\"color: #00af00; text-decoration-color: #00af00\">256</span>)            │    <span style=\"color: #00af00; text-decoration-color: #00af00\">25,690,368</span> │\n",
       "├─────────────────────────────────┼────────────────────────┼───────────────┤\n",
       "│ dense_5 (<span style=\"color: #0087ff; text-decoration-color: #0087ff\">Dense</span>)                 │ (<span style=\"color: #00d7ff; text-decoration-color: #00d7ff\">None</span>, <span style=\"color: #00af00; text-decoration-color: #00af00\">784</span>)            │       <span style=\"color: #00af00; text-decoration-color: #00af00\">201,488</span> │\n",
       "├─────────────────────────────────┼────────────────────────┼───────────────┤\n",
       "│ reshape_2 (<span style=\"color: #0087ff; text-decoration-color: #0087ff\">Reshape</span>)             │ (<span style=\"color: #00d7ff; text-decoration-color: #00d7ff\">None</span>, <span style=\"color: #00af00; text-decoration-color: #00af00\">28</span>, <span style=\"color: #00af00; text-decoration-color: #00af00\">28</span>, <span style=\"color: #00af00; text-decoration-color: #00af00\">1</span>)      │             <span style=\"color: #00af00; text-decoration-color: #00af00\">0</span> │\n",
       "└─────────────────────────────────┴────────────────────────┴───────────────┘\n",
       "</pre>\n"
      ],
      "text/plain": [
       "┏━━━━━━━━━━━━━━━━━━━━━━━━━━━━━━━━━┳━━━━━━━━━━━━━━━━━━━━━━━━┳━━━━━━━━━━━━━━━┓\n",
       "┃\u001b[1m \u001b[0m\u001b[1mLayer (type)                   \u001b[0m\u001b[1m \u001b[0m┃\u001b[1m \u001b[0m\u001b[1mOutput Shape          \u001b[0m\u001b[1m \u001b[0m┃\u001b[1m \u001b[0m\u001b[1m      Param #\u001b[0m\u001b[1m \u001b[0m┃\n",
       "┡━━━━━━━━━━━━━━━━━━━━━━━━━━━━━━━━━╇━━━━━━━━━━━━━━━━━━━━━━━━╇━━━━━━━━━━━━━━━┩\n",
       "│ input_layer_2 (\u001b[38;5;33mInputLayer\u001b[0m)      │ (\u001b[38;5;45mNone\u001b[0m, \u001b[38;5;34m28\u001b[0m, \u001b[38;5;34m28\u001b[0m, \u001b[38;5;34m1\u001b[0m)      │             \u001b[38;5;34m0\u001b[0m │\n",
       "├─────────────────────────────────┼────────────────────────┼───────────────┤\n",
       "│ conv2d_6 (\u001b[38;5;33mConv2D\u001b[0m)               │ (\u001b[38;5;45mNone\u001b[0m, \u001b[38;5;34m28\u001b[0m, \u001b[38;5;34m28\u001b[0m, \u001b[38;5;34m32\u001b[0m)     │           \u001b[38;5;34m320\u001b[0m │\n",
       "├─────────────────────────────────┼────────────────────────┼───────────────┤\n",
       "│ conv2d_7 (\u001b[38;5;33mConv2D\u001b[0m)               │ (\u001b[38;5;45mNone\u001b[0m, \u001b[38;5;34m28\u001b[0m, \u001b[38;5;34m28\u001b[0m, \u001b[38;5;34m64\u001b[0m)     │        \u001b[38;5;34m18,496\u001b[0m │\n",
       "├─────────────────────────────────┼────────────────────────┼───────────────┤\n",
       "│ conv2d_8 (\u001b[38;5;33mConv2D\u001b[0m)               │ (\u001b[38;5;45mNone\u001b[0m, \u001b[38;5;34m28\u001b[0m, \u001b[38;5;34m28\u001b[0m, \u001b[38;5;34m128\u001b[0m)    │        \u001b[38;5;34m73,856\u001b[0m │\n",
       "├─────────────────────────────────┼────────────────────────┼───────────────┤\n",
       "│ flatten_2 (\u001b[38;5;33mFlatten\u001b[0m)             │ (\u001b[38;5;45mNone\u001b[0m, \u001b[38;5;34m100352\u001b[0m)         │             \u001b[38;5;34m0\u001b[0m │\n",
       "├─────────────────────────────────┼────────────────────────┼───────────────┤\n",
       "│ dense_4 (\u001b[38;5;33mDense\u001b[0m)                 │ (\u001b[38;5;45mNone\u001b[0m, \u001b[38;5;34m256\u001b[0m)            │    \u001b[38;5;34m25,690,368\u001b[0m │\n",
       "├─────────────────────────────────┼────────────────────────┼───────────────┤\n",
       "│ dense_5 (\u001b[38;5;33mDense\u001b[0m)                 │ (\u001b[38;5;45mNone\u001b[0m, \u001b[38;5;34m784\u001b[0m)            │       \u001b[38;5;34m201,488\u001b[0m │\n",
       "├─────────────────────────────────┼────────────────────────┼───────────────┤\n",
       "│ reshape_2 (\u001b[38;5;33mReshape\u001b[0m)             │ (\u001b[38;5;45mNone\u001b[0m, \u001b[38;5;34m28\u001b[0m, \u001b[38;5;34m28\u001b[0m, \u001b[38;5;34m1\u001b[0m)      │             \u001b[38;5;34m0\u001b[0m │\n",
       "└─────────────────────────────────┴────────────────────────┴───────────────┘\n"
      ]
     },
     "metadata": {},
     "output_type": "display_data"
    },
    {
     "data": {
      "text/html": [
       "<pre style=\"white-space:pre;overflow-x:auto;line-height:normal;font-family:Menlo,'DejaVu Sans Mono',consolas,'Courier New',monospace\"><span style=\"font-weight: bold\"> Total params: </span><span style=\"color: #00af00; text-decoration-color: #00af00\">25,984,528</span> (99.12 MB)\n",
       "</pre>\n"
      ],
      "text/plain": [
       "\u001b[1m Total params: \u001b[0m\u001b[38;5;34m25,984,528\u001b[0m (99.12 MB)\n"
      ]
     },
     "metadata": {},
     "output_type": "display_data"
    },
    {
     "data": {
      "text/html": [
       "<pre style=\"white-space:pre;overflow-x:auto;line-height:normal;font-family:Menlo,'DejaVu Sans Mono',consolas,'Courier New',monospace\"><span style=\"font-weight: bold\"> Trainable params: </span><span style=\"color: #00af00; text-decoration-color: #00af00\">25,984,528</span> (99.12 MB)\n",
       "</pre>\n"
      ],
      "text/plain": [
       "\u001b[1m Trainable params: \u001b[0m\u001b[38;5;34m25,984,528\u001b[0m (99.12 MB)\n"
      ]
     },
     "metadata": {},
     "output_type": "display_data"
    },
    {
     "data": {
      "text/html": [
       "<pre style=\"white-space:pre;overflow-x:auto;line-height:normal;font-family:Menlo,'DejaVu Sans Mono',consolas,'Courier New',monospace\"><span style=\"font-weight: bold\"> Non-trainable params: </span><span style=\"color: #00af00; text-decoration-color: #00af00\">0</span> (0.00 B)\n",
       "</pre>\n"
      ],
      "text/plain": [
       "\u001b[1m Non-trainable params: \u001b[0m\u001b[38;5;34m0\u001b[0m (0.00 B)\n"
      ]
     },
     "metadata": {},
     "output_type": "display_data"
    }
   ],
   "source": [
    "# Define the model using the functional API\n",
    "inputs = tf.keras.layers.Input(shape=(28, 28, 1))\n",
    "x = tf.keras.layers.Conv2D(32, 3, activation='relu', padding='same')(inputs)\n",
    "x = tf.keras.layers.Conv2D(64, 3, activation='relu', padding='same')(x)\n",
    "x = tf.keras.layers.Conv2D(128, 3, activation='relu', padding='same')(x)\n",
    "x = tf.keras.layers.Flatten()(x)\n",
    "x = tf.keras.layers.Dense(256, activation='relu')(x)\n",
    "outputs = tf.keras.layers.Dense(28 * 28)(x)\n",
    "outputs = tf.keras.layers.Reshape((28, 28, 1))(outputs)\n",
    "\n",
    "model = tf.keras.Model(inputs, outputs)\n",
    "\n",
    "# Print model summary\n",
    "model.summary()\n"
   ]
  },
  {
   "cell_type": "code",
   "execution_count": 10,
   "id": "9e31b03e-724f-4d0c-921f-b517a6920d38",
   "metadata": {},
   "outputs": [
    {
     "name": "stdout",
     "output_type": "stream",
     "text": [
      "betas shape: (1000,)\n",
      "alphas shape: (1000,)\n",
      "alphas_bar shape: (1000,)\n"
     ]
    }
   ],
   "source": [
    "# Define optimizer\n",
    "optimizer = tf.keras.optimizers.Adam(learning_rate=learning_rate)\n",
    "\n",
    "# Define betas and alphas\n",
    "betas = tf.linspace(beta_start, beta_end, timesteps)\n",
    "alphas = 1 - betas\n",
    "alphas_bar = tf.math.cumprod(alphas)\n",
    "\n",
    "# Print beta and alpha shapes\n",
    "print(f\"betas shape: {betas.shape}\")\n",
    "print(f\"alphas shape: {alphas.shape}\")\n",
    "print(f\"alphas_bar shape: {alphas_bar.shape}\")\n"
   ]
  },
  {
   "cell_type": "code",
   "execution_count": 11,
   "id": "8d127033-0b46-4d22-b852-e4f774c6d063",
   "metadata": {},
   "outputs": [],
   "source": [
    "# Function to add noise to the data\n",
    "def add_noise(x, t):\n",
    "    noise = tf.random.normal(shape=tf.shape(x))\n",
    "    alpha_bar = tf.gather(alphas_bar, t)\n",
    "    return tf.sqrt(alpha_bar)[..., None, None, None] * x + tf.sqrt(1 - alpha_bar)[..., None, None, None] * noise, noise\n"
   ]
  },
  {
   "cell_type": "code",
   "execution_count": 14,
   "id": "9805eacb-c617-4697-812c-58ecfcd8bbda",
   "metadata": {},
   "outputs": [],
   "source": [
    "# Function to calculate the loss\n",
    "def calculate_loss(x, t, x_noisy, true_noise):\n",
    "    predicted_noise = model(x_noisy)\n",
    "    loss = tf.keras.losses.MeanSquaredError()(predicted_noise, true_noise)\n",
    "    return loss\n"
   ]
  },
  {
   "cell_type": "code",
   "execution_count": 15,
   "id": "f746a345-0af0-477e-b069-74c7bc7ad99a",
   "metadata": {},
   "outputs": [
    {
     "name": "stdout",
     "output_type": "stream",
     "text": [
      "Epoch 1, Batch 0, Loss: 0.99075847864151\n",
      "Epoch 1, Batch 100, Loss: 0.9905893206596375\n",
      "Epoch 1, Batch 200, Loss: 0.980884850025177\n",
      "Epoch 1, Batch 300, Loss: 0.9955935478210449\n",
      "Epoch 1, Batch 400, Loss: 0.993279755115509\n",
      "Epoch 1, Batch 500, Loss: 0.9876493215560913\n",
      "Epoch 1, Batch 600, Loss: 0.9888930320739746\n",
      "Epoch 1, Batch 700, Loss: 0.9889037609100342\n",
      "Epoch 1, Batch 800, Loss: 0.9793212413787842\n",
      "Epoch 1, Batch 900, Loss: 0.9915712475776672\n"
     ]
    },
    {
     "name": "stderr",
     "output_type": "stream",
     "text": [
      "2024-07-12 06:08:38.201066: W tensorflow/core/framework/local_rendezvous.cc:404] Local rendezvous is aborting with status: OUT_OF_RANGE: End of sequence\n"
     ]
    },
    {
     "name": "stdout",
     "output_type": "stream",
     "text": [
      "Epoch 2, Batch 0, Loss: 0.9878690242767334\n",
      "Epoch 2, Batch 100, Loss: 0.9749526977539062\n",
      "Epoch 2, Batch 200, Loss: 0.9838546514511108\n",
      "Epoch 2, Batch 300, Loss: 0.9862492084503174\n",
      "Epoch 2, Batch 400, Loss: 0.9916733503341675\n",
      "Epoch 2, Batch 500, Loss: 0.99181067943573\n",
      "Epoch 2, Batch 600, Loss: 0.9811180233955383\n",
      "Epoch 2, Batch 700, Loss: 0.9854148030281067\n",
      "Epoch 2, Batch 800, Loss: 0.9839222431182861\n",
      "Epoch 2, Batch 900, Loss: 1.002243161201477\n"
     ]
    },
    {
     "name": "stderr",
     "output_type": "stream",
     "text": [
      "2024-07-12 06:09:12.950036: W tensorflow/core/framework/local_rendezvous.cc:404] Local rendezvous is aborting with status: OUT_OF_RANGE: End of sequence\n"
     ]
    },
    {
     "name": "stdout",
     "output_type": "stream",
     "text": [
      "Epoch 3, Batch 0, Loss: 0.9838994741439819\n",
      "Epoch 3, Batch 100, Loss: 0.9925750494003296\n",
      "Epoch 3, Batch 200, Loss: 0.982549786567688\n",
      "Epoch 3, Batch 300, Loss: 0.995786726474762\n",
      "Epoch 3, Batch 400, Loss: 0.9889101386070251\n",
      "Epoch 3, Batch 500, Loss: 0.9870971441268921\n",
      "Epoch 3, Batch 600, Loss: 0.9994453191757202\n",
      "Epoch 3, Batch 700, Loss: 0.9801462888717651\n",
      "Epoch 3, Batch 800, Loss: 0.987266480922699\n",
      "Epoch 3, Batch 900, Loss: 0.9881068468093872\n"
     ]
    },
    {
     "name": "stderr",
     "output_type": "stream",
     "text": [
      "2024-07-12 06:09:48.167655: W tensorflow/core/framework/local_rendezvous.cc:404] Local rendezvous is aborting with status: OUT_OF_RANGE: End of sequence\n"
     ]
    },
    {
     "name": "stdout",
     "output_type": "stream",
     "text": [
      "Epoch 4, Batch 0, Loss: 0.9822548031806946\n",
      "Epoch 4, Batch 100, Loss: 0.9941986799240112\n",
      "Epoch 4, Batch 200, Loss: 0.9894078373908997\n",
      "Epoch 4, Batch 300, Loss: 0.9822837710380554\n",
      "Epoch 4, Batch 400, Loss: 0.990215003490448\n",
      "Epoch 4, Batch 500, Loss: 0.9940966963768005\n",
      "Epoch 4, Batch 600, Loss: 0.9898557066917419\n",
      "Epoch 4, Batch 700, Loss: 0.9878535270690918\n",
      "Epoch 4, Batch 800, Loss: 0.9852458238601685\n",
      "Epoch 4, Batch 900, Loss: 0.9871306419372559\n"
     ]
    },
    {
     "name": "stderr",
     "output_type": "stream",
     "text": [
      "2024-07-12 06:10:24.082542: W tensorflow/core/framework/local_rendezvous.cc:404] Local rendezvous is aborting with status: OUT_OF_RANGE: End of sequence\n"
     ]
    },
    {
     "name": "stdout",
     "output_type": "stream",
     "text": [
      "Epoch 5, Batch 0, Loss: 0.9928327202796936\n",
      "Epoch 5, Batch 100, Loss: 0.994915246963501\n",
      "Epoch 5, Batch 200, Loss: 0.9940791130065918\n",
      "Epoch 5, Batch 300, Loss: 0.9859743118286133\n",
      "Epoch 5, Batch 400, Loss: 0.9868466258049011\n",
      "Epoch 5, Batch 500, Loss: 0.9828519821166992\n",
      "Epoch 5, Batch 600, Loss: 0.979320764541626\n",
      "Epoch 5, Batch 700, Loss: 0.9851030111312866\n",
      "Epoch 5, Batch 800, Loss: 0.9909906387329102\n",
      "Epoch 5, Batch 900, Loss: 0.9890550971031189\n"
     ]
    },
    {
     "name": "stderr",
     "output_type": "stream",
     "text": [
      "2024-07-12 06:11:05.142534: W tensorflow/core/framework/local_rendezvous.cc:404] Local rendezvous is aborting with status: OUT_OF_RANGE: End of sequence\n"
     ]
    },
    {
     "name": "stdout",
     "output_type": "stream",
     "text": [
      "Epoch 6, Batch 0, Loss: 0.9978724122047424\n",
      "Epoch 6, Batch 100, Loss: 0.9968293905258179\n",
      "Epoch 6, Batch 200, Loss: 0.9910501837730408\n",
      "Epoch 6, Batch 300, Loss: 0.990720272064209\n",
      "Epoch 6, Batch 400, Loss: 0.9850899577140808\n",
      "Epoch 6, Batch 500, Loss: 0.9797508120536804\n",
      "Epoch 6, Batch 600, Loss: 0.9783905744552612\n",
      "Epoch 6, Batch 700, Loss: 0.9847134947776794\n",
      "Epoch 6, Batch 800, Loss: 0.9941138625144958\n",
      "Epoch 6, Batch 900, Loss: 0.9925699234008789\n"
     ]
    },
    {
     "name": "stderr",
     "output_type": "stream",
     "text": [
      "2024-07-12 06:11:45.766359: W tensorflow/core/framework/local_rendezvous.cc:404] Local rendezvous is aborting with status: OUT_OF_RANGE: End of sequence\n"
     ]
    },
    {
     "name": "stdout",
     "output_type": "stream",
     "text": [
      "Epoch 7, Batch 0, Loss: 0.9962725043296814\n",
      "Epoch 7, Batch 100, Loss: 0.9816263318061829\n",
      "Epoch 7, Batch 200, Loss: 0.9858183860778809\n",
      "Epoch 7, Batch 300, Loss: 0.9821012616157532\n",
      "Epoch 7, Batch 400, Loss: 0.9823539853096008\n",
      "Epoch 7, Batch 500, Loss: 0.9801406860351562\n",
      "Epoch 7, Batch 600, Loss: 0.9806146621704102\n",
      "Epoch 7, Batch 700, Loss: 0.9898521304130554\n",
      "Epoch 7, Batch 800, Loss: 0.9830665588378906\n",
      "Epoch 7, Batch 900, Loss: 0.9852849245071411\n"
     ]
    },
    {
     "name": "stderr",
     "output_type": "stream",
     "text": [
      "2024-07-12 06:12:23.276634: W tensorflow/core/framework/local_rendezvous.cc:404] Local rendezvous is aborting with status: OUT_OF_RANGE: End of sequence\n"
     ]
    },
    {
     "name": "stdout",
     "output_type": "stream",
     "text": [
      "Epoch 8, Batch 0, Loss: 0.9938425421714783\n",
      "Epoch 8, Batch 100, Loss: 0.9837610721588135\n",
      "Epoch 8, Batch 200, Loss: 0.9938707947731018\n",
      "Epoch 8, Batch 300, Loss: 0.9907231330871582\n",
      "Epoch 8, Batch 400, Loss: 0.9782527089118958\n",
      "Epoch 8, Batch 500, Loss: 0.9877962470054626\n",
      "Epoch 8, Batch 600, Loss: 0.984260618686676\n",
      "Epoch 8, Batch 700, Loss: 0.9888649582862854\n",
      "Epoch 8, Batch 800, Loss: 0.9750526547431946\n",
      "Epoch 8, Batch 900, Loss: 0.9802586436271667\n"
     ]
    },
    {
     "name": "stderr",
     "output_type": "stream",
     "text": [
      "2024-07-12 06:12:58.980455: W tensorflow/core/framework/local_rendezvous.cc:404] Local rendezvous is aborting with status: OUT_OF_RANGE: End of sequence\n"
     ]
    },
    {
     "name": "stdout",
     "output_type": "stream",
     "text": [
      "Epoch 9, Batch 0, Loss: 0.9951408505439758\n",
      "Epoch 9, Batch 100, Loss: 0.9830725789070129\n",
      "Epoch 9, Batch 200, Loss: 0.9834373593330383\n",
      "Epoch 9, Batch 300, Loss: 0.9905834794044495\n",
      "Epoch 9, Batch 400, Loss: 0.9912289977073669\n",
      "Epoch 9, Batch 500, Loss: 0.9842560291290283\n",
      "Epoch 9, Batch 600, Loss: 0.9855989217758179\n",
      "Epoch 9, Batch 700, Loss: 0.9872265458106995\n",
      "Epoch 9, Batch 800, Loss: 0.9946461319923401\n",
      "Epoch 9, Batch 900, Loss: 0.9815435409545898\n"
     ]
    },
    {
     "name": "stderr",
     "output_type": "stream",
     "text": [
      "2024-07-12 06:13:34.963416: W tensorflow/core/framework/local_rendezvous.cc:404] Local rendezvous is aborting with status: OUT_OF_RANGE: End of sequence\n"
     ]
    },
    {
     "name": "stdout",
     "output_type": "stream",
     "text": [
      "Epoch 10, Batch 0, Loss: 0.9823659658432007\n",
      "Epoch 10, Batch 100, Loss: 0.9988861083984375\n",
      "Epoch 10, Batch 200, Loss: 0.9910761117935181\n",
      "Epoch 10, Batch 300, Loss: 0.9762443900108337\n",
      "Epoch 10, Batch 400, Loss: 0.9913364052772522\n",
      "Epoch 10, Batch 500, Loss: 0.9861183166503906\n",
      "Epoch 10, Batch 600, Loss: 0.9846216440200806\n",
      "Epoch 10, Batch 700, Loss: 0.9816276431083679\n",
      "Epoch 10, Batch 800, Loss: 0.9813628196716309\n",
      "Epoch 10, Batch 900, Loss: 0.9934846758842468\n"
     ]
    },
    {
     "name": "stderr",
     "output_type": "stream",
     "text": [
      "2024-07-12 06:14:11.448198: W tensorflow/core/framework/local_rendezvous.cc:404] Local rendezvous is aborting with status: OUT_OF_RANGE: End of sequence\n"
     ]
    }
   ],
   "source": [
    "# Training loop\n",
    "for epoch in range(num_epochs):\n",
    "    for batch_idx, data in enumerate(tf.data.Dataset.from_tensor_slices(x_train).batch(batch_size, drop_remainder=True)):  \n",
    "        t = tf.random.uniform(shape=[data.shape[0]], minval=0, maxval=timesteps, dtype=tf.int32)\n",
    "        x_noisy, true_noise = add_noise(data, t)\n",
    "\n",
    "        with tf.GradientTape() as tape:\n",
    "            loss = calculate_loss(data, t, x_noisy, true_noise)\n",
    "\n",
    "        gradients = tape.gradient(loss, model.trainable_variables)\n",
    "        optimizer.apply_gradients(zip(gradients, model.trainable_variables))\n",
    "\n",
    "        if batch_idx % 100 == 0:\n",
    "            print(f\"Epoch {epoch + 1}, Batch {batch_idx}, Loss: {loss.numpy()}\")\n"
   ]
  },
  {
   "cell_type": "code",
   "execution_count": null,
   "id": "485e27b8-8154-4a89-9625-ba2be4184aba",
   "metadata": {},
   "outputs": [],
   "source": [
    "# Generate images\n",
    "def generate_images(num_images=10):\n",
    "    noise = tf.random.normal(shape=[num_images, 28, 28, 1])\n",
    "    for t in reversed(range(timesteps)):\n",
    "        predicted_noise = model(noise)\n",
    "        alpha_bar = tf.gather(alphas_bar, t)\n",
    "        noise = tf.sqrt(alpha_bar)[..., None, None, None] * noise + tf.sqrt(1 - alpha_bar)[..., None, None, None] * predicted_noise\n",
    "\n",
    "    images = tf.clip_by_value(noise, 0.0, 1.0)\n",
    "    return images\n",
    "\n",
    "# Generate and visualize images\n",
    "generated_images = generate_images()\n",
    "print(f\"Generated images shape: {generated_images.shape}\")\n",
    "fig, axs = plt.subplots(2, 5, figsize=(10, 5))\n",
    "for i in range(10):\n",
    "    axs[i // 5, i % 5].imshow(generated_images[i][..., 0], cmap='gray')\n",
    "    axs[i // 5, i % 5].axis('off')\n",
    "plt.show()\n"
   ]
  }
 ],
 "metadata": {
  "kernelspec": {
   "display_name": "Python 3 (ipykernel)",
   "language": "python",
   "name": "python3"
  },
  "language_info": {
   "codemirror_mode": {
    "name": "ipython",
    "version": 3
   },
   "file_extension": ".py",
   "mimetype": "text/x-python",
   "name": "python",
   "nbconvert_exporter": "python",
   "pygments_lexer": "ipython3",
   "version": "3.11.0rc1"
  }
 },
 "nbformat": 4,
 "nbformat_minor": 5
}
