{
 "cells": [
  {
   "cell_type": "code",
   "execution_count": null,
   "id": "892dc11a-1815-4e74-91ad-972a89df88cc",
   "metadata": {},
   "outputs": [],
   "source": [
    "'''import os\n",
    "from PIL import Image, ImageDraw, ImageFont\n",
    "from datasets import load_dataset\n",
    "\n",
    "# Load the dataset\n",
    "dataset = load_dataset('ta4tsering/Lhasa_kanjur_transcription_datasets', split='train')\n",
    "\n",
    "# Extract filenames and transcriptions\n",
    "filenames = dataset['filename']\n",
    "transcriptions = dataset['label']\n",
    "\n",
    "# Function to generate images from transcriptions\n",
    "def generate_image_from_text(text, font_path='/mine.ttf', image_size=(2048, 64), font_size=32):\n",
    "    img = Image.new('L', image_size, color='white')\n",
    "    d = ImageDraw.Draw(img)\n",
    "    try:\n",
    "        font = ImageFont.truetype(font_path, font_size)\n",
    "    except IOError:\n",
    "        print(f\"Font file not found: {font_path}\")\n",
    "        return img\n",
    "    d.text((10, 10), text, fill='black', font=font)\n",
    "    return img\n",
    "\n",
    "# Create the output directory\n",
    "output_dir = '/local_dir/Transcription_Images'\n",
    "os.makedirs(output_dir, exist_ok=True)\n",
    "\n",
    "# Generate images for each transcription and save them\n",
    "for filename, transcription in zip(filenames, transcriptions):\n",
    "    text_image = generate_image_from_text(transcription)\n",
    "    output_path = os.path.join(output_dir, filename)\n",
    "    text_image.save(output_path)\n",
    "\n",
    "print(\"Transcription images generated and saved successfully.\")'''"
   ]
  },
  {
   "cell_type": "code",
   "execution_count": 32,
   "id": "0038d0de-f763-440a-b355-d6f3f8bee87f",
   "metadata": {},
   "outputs": [
    {
     "name": "stdout",
     "output_type": "stream",
     "text": [
      "Number of images in /local_dir/Train_Images: 133024\n",
      "Number of images in /local_dir/Transcription_Images: 133024\n",
      "The number of images matches.\n",
      "All filenames match.\n"
     ]
    }
   ],
   "source": [
    "'''import os\n",
    "import shutil\n",
    "\n",
    "def remove_dot_files(directory):\n",
    "    # Remove dot files (hidden files) from the specified directory\n",
    "    for filename in os.listdir(directory):\n",
    "        if filename.startswith('.'):\n",
    "            file_path = os.path.join(directory, filename)\n",
    "            if os.path.isfile(file_path):\n",
    "                os.remove(file_path)\n",
    "            elif os.path.isdir(file_path):\n",
    "                shutil.rmtree(file_path)\n",
    "\n",
    "def get_sorted_filenames(directory):\n",
    "    # List all files, ignore dot files, and sort the filenames\n",
    "    return sorted(f for f in os.listdir(directory) if not f.startswith('.'))\n",
    "\n",
    "# Directories containing the training images and transcription images\n",
    "image_dir = '/local_dir/Train_Images'\n",
    "text_image_dir = '/local_dir/Transcription_Images'\n",
    "\n",
    "# Remove dot files from both directories\n",
    "remove_dot_files(image_dir)\n",
    "remove_dot_files(text_image_dir)\n",
    "\n",
    "# Get sorted lists of filenames in both directories\n",
    "image_filenames = get_sorted_filenames(image_dir)\n",
    "text_image_filenames = get_sorted_filenames(text_image_dir)\n",
    "\n",
    "# Check if the number of images is the same\n",
    "num_images = len(image_filenames)\n",
    "num_text_images = len(text_image_filenames)\n",
    "\n",
    "print(f\"Number of images in {image_dir}: {num_images}\")\n",
    "print(f\"Number of images in {text_image_dir}: {num_text_images}\")\n",
    "\n",
    "if num_images != num_text_images:\n",
    "    print(\"Mismatch in the number of images!\")\n",
    "else:\n",
    "    print(\"The number of images matches.\")\n",
    "\n",
    "# Check for any mismatched filenames\n",
    "mismatched_files = []\n",
    "for img_file, txt_img_file in zip(image_filenames, text_image_filenames):\n",
    "    if img_file != txt_img_file:\n",
    "        mismatched_files.append((img_file, txt_img_file))\n",
    "\n",
    "if mismatched_files:\n",
    "    print(\"Mismatched files:\")\n",
    "    for img_file, txt_img_file in mismatched_files:\n",
    "        print(f\"Train Image: {img_file} | Transcription Image: {txt_img_file}\")\n",
    "else:\n",
    "    print(\"All filenames match.\")'''"
   ]
  },
  {
   "cell_type": "code",
   "execution_count": null,
   "id": "bea9d038-1439-41b0-8de6-7631734b9aa9",
   "metadata": {},
   "outputs": [],
   "source": []
  }
 ],
 "metadata": {
  "kernelspec": {
   "display_name": "Python 3 (ipykernel)",
   "language": "python",
   "name": "python3"
  },
  "language_info": {
   "codemirror_mode": {
    "name": "ipython",
    "version": 3
   },
   "file_extension": ".py",
   "mimetype": "text/x-python",
   "name": "python",
   "nbconvert_exporter": "python",
   "pygments_lexer": "ipython3",
   "version": "3.11.0rc1"
  }
 },
 "nbformat": 4,
 "nbformat_minor": 5
}
