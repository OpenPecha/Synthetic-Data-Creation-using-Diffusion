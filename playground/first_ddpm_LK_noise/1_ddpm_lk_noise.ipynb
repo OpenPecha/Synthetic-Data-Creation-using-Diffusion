{
 "cells": [
  {
   "cell_type": "code",
   "execution_count": 1,
   "id": "7b65b49a-1a05-482e-b86c-a032dc23a472",
   "metadata": {},
   "outputs": [],
   "source": [
    "import pytorch_lightning as pl\n",
    "from torch.utils.data import DataLoader, Dataset\n",
    "from torchvision import transforms\n",
    "import torch\n",
    "from PIL import Image\n",
    "import os\n",
    "from diffusers import UNet2DModel, DDPMScheduler\n",
    "\n",
    "class CustomDataset(Dataset):\n",
    "    def __init__(self, image_dir, transform=None):\n",
    "        self.image_dir = image_dir\n",
    "        self.transform = transform\n",
    "        self.image_files = [f for f in os.listdir(image_dir) if os.path.isfile(os.path.join(image_dir, f))]\n",
    "\n",
    "    def __len__(self):\n",
    "        return len(self.image_files)\n",
    "\n",
    "    def __getitem__(self, idx):\n",
    "        img_name = os.path.join(self.image_dir, self.image_files[idx])\n",
    "        image = Image.open(img_name).convert(\"L\")  # Convert to grayscale\n",
    "        if self.transform:\n",
    "            image = self.transform(image)\n",
    "        return image\n",
    "\n",
    "transform = transforms.Compose([\n",
    "    transforms.Resize((64, 2048)),\n",
    "    transforms.ToTensor(),\n",
    "    transforms.Normalize([0.5], [0.5])  # Normalize for grayscale images\n",
    "])\n",
    "\n",
    "dataset = CustomDataset(image_dir='/Selected_LG', transform=transform)\n",
    "dataloader = DataLoader(dataset, batch_size=4, shuffle=True, num_workers=4)  # Adjust batch size and num_workers"
   ]
  },
  {
   "cell_type": "code",
   "execution_count": 2,
   "id": "a46fcbe5-9096-4790-a2f8-3560813a1dcf",
   "metadata": {},
   "outputs": [],
   "source": [
    "import pytorch_lightning as pl\n",
    "from diffusers import UNet2DModel, DDPMScheduler\n",
    "\n",
    "class SimpleDDPM(pl.LightningModule):\n",
    "    def __init__(self):\n",
    "        super(SimpleDDPM, self).__init__()\n",
    "        self.model = UNet2DModel(\n",
    "            sample_size=(64, 2048),\n",
    "            in_channels=1,  # Single channel for grayscale images\n",
    "            out_channels=1,  # Single channel output\n",
    "            layers_per_block=2,\n",
    "            block_out_channels=(64, 128, 256, 512),\n",
    "            down_block_types=(\"DownBlock2D\", \"DownBlock2D\", \"DownBlock2D\", \"DownBlock2D\"),\n",
    "            up_block_types=(\"UpBlock2D\", \"UpBlock2D\", \"UpBlock2D\", \"UpBlock2D\")\n",
    "        )\n",
    "        self.scheduler = DDPMScheduler(num_train_timesteps=1000)\n",
    "        self.criterion = torch.nn.MSELoss()\n",
    "\n",
    "    def forward(self, x, t):\n",
    "        return self.model(x, t).sample\n",
    "\n",
    "    def training_step(self, batch, batch_idx):\n",
    "        images = batch.to(self.device)\n",
    "        t = torch.randint(0, self.scheduler.config.num_train_timesteps, (images.size(0),), device=self.device).long()\n",
    "        noise = torch.randn_like(images).to(self.device)\n",
    "        noisy_images = self.scheduler.add_noise(original_samples=images, noise=noise, timesteps=t)\n",
    "\n",
    "        predicted_noise = self(noisy_images, t)\n",
    "        loss = self.criterion(predicted_noise, noise)\n",
    "        self.log('train_loss', loss)\n",
    "        return loss\n",
    "\n",
    "    def configure_optimizers(self):\n",
    "        return torch.optim.Adam(self.parameters(), lr=1e-4)\n"
   ]
  },
  {
   "cell_type": "code",
   "execution_count": 3,
   "id": "7b557c06-b860-406e-b39e-17f5743e97e3",
   "metadata": {},
   "outputs": [
    {
     "name": "stderr",
     "output_type": "stream",
     "text": [
      "/usr/local/lib/python3.11/dist-packages/lightning_fabric/connector.py:571: `precision=16` is supported for historical reasons but its usage is discouraged. Please set your precision to 16-mixed instead!\n",
      "Using 16bit Automatic Mixed Precision (AMP)\n",
      "GPU available: True (cuda), used: True\n",
      "TPU available: False, using: 0 TPU cores\n",
      "HPU available: False, using: 0 HPUs\n"
     ]
    }
   ],
   "source": [
    "# Check for GPU availability and initialize the Trainer accordingly\n",
    "if torch.cuda.is_available():\n",
    "    accelerator = 'gpu'\n",
    "    devices = 1\n",
    "else:\n",
    "    accelerator = 'cpu'\n",
    "    devices = 1\n",
    "    \n",
    "trainer = pl.Trainer(\n",
    "    accumulate_grad_batches=4,  # Gradient accumulation\n",
    "    precision=16,  # Mixed precision\n",
    "    max_epochs=100,\n",
    "    accelerator='gpu',\n",
    "    devices=1\n",
    ")\n",
    "\n",
    "model = SimpleDDPM()"
   ]
  },
  {
   "cell_type": "code",
   "execution_count": 16,
   "id": "31161613-96b0-405b-9517-032488af42f9",
   "metadata": {},
   "outputs": [
    {
     "name": "stderr",
     "output_type": "stream",
     "text": [
      "LOCAL_RANK: 0 - CUDA_VISIBLE_DEVICES: [0]\n",
      "\n",
      "  | Name      | Type        | Params | Mode\n",
      "-------------------------------------------------\n",
      "0 | model     | UNet2DModel | 56.6 M | eval\n",
      "1 | criterion | MSELoss     | 0      | eval\n",
      "-------------------------------------------------\n",
      "56.6 M    Trainable params\n",
      "0         Non-trainable params\n",
      "56.6 M    Total params\n",
      "226.289   Total estimated model params size (MB)\n"
     ]
    },
    {
     "data": {
      "application/vnd.jupyter.widget-view+json": {
       "model_id": "e7af9278745343628ac9377099f027c8",
       "version_major": 2,
       "version_minor": 0
      },
      "text/plain": [
       "Training: |          | 0/? [00:00<?, ?it/s]"
      ]
     },
     "metadata": {},
     "output_type": "display_data"
    }
   ],
   "source": [
    "# Train the model\n",
    "trainer.fit(model, dataloader)"
   ]
  },
  {
   "cell_type": "code",
   "execution_count": null,
   "id": "d8c71116-c2d2-40d2-9b8c-6f80379f9b1d",
   "metadata": {
    "scrolled": true
   },
   "outputs": [
    {
     "name": "stderr",
     "output_type": "stream",
     "text": [
      "\n",
      "0it [00:00, ?it/s]\u001b[A\n",
      "6it [00:00, 51.73it/s]\u001b[A\n",
      "12it [00:00, 49.00it/s]\u001b[A\n",
      "17it [00:00, 48.10it/s]\u001b[A\n",
      "22it [00:00, 47.71it/s]\u001b[A"
     ]
    }
   ],
   "source": [
    "import matplotlib.pyplot as plt\n",
    "from tqdm import tqdm\n",
    "# Generate and Visualize Images\n",
    "model.eval()\n",
    "with torch.no_grad():\n",
    "    num_images = 1\n",
    "    noise = torch.randn(num_images, 1, 64, 2048).to('cuda')  # Adjust to grayscale and new size\n",
    "    for t in tqdm(reversed(range(model.scheduler.config.num_train_timesteps))):\n",
    "        model_output = model(noise, t)\n",
    "        noise = model.scheduler.step(model_output, t, noise).prev_sample\n",
    "\n",
    "    generated_images = (noise + 1) / 2  # Convert [-1, 1] to [0, 1]\n",
    "\n",
    "# Plot generated images\n",
    "fig, axs = plt.subplots(num_images, 1, figsize=(20, num_images * 2))\n",
    "if num_images == 1:\n",
    "    axs.imshow(generated_images[0].cpu().squeeze(), cmap='gray')\n",
    "    axs.axis(\"off\")\n",
    "else:\n",
    "    for i in range(num_images):\n",
    "        axs[i].imshow(generated_images[i].cpu().squeeze(), cmap='gray')\n",
    "        axs[i].axis(\"off\")\n",
    "plt.show()\n"
   ]
  },
  {
   "cell_type": "code",
   "execution_count": null,
   "id": "4ebf60cd-2128-4368-9bd4-046ea85198a4",
   "metadata": {},
   "outputs": [],
   "source": []
  }
 ],
 "metadata": {
  "kernelspec": {
   "display_name": "Python 3 (ipykernel)",
   "language": "python",
   "name": "python3"
  },
  "language_info": {
   "codemirror_mode": {
    "name": "ipython",
    "version": 3
   },
   "file_extension": ".py",
   "mimetype": "text/x-python",
   "name": "python",
   "nbconvert_exporter": "python",
   "pygments_lexer": "ipython3",
   "version": "3.11.0rc1"
  }
 },
 "nbformat": 4,
 "nbformat_minor": 5
}
